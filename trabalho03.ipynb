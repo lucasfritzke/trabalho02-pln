{
 "cells": [
  {
   "cell_type": "code",
   "execution_count": null,
   "id": "initial_id",
   "metadata": {
    "collapsed": true
   },
   "outputs": [],
   "source": [
    "import pandas as pd\n",
    "\n",
    "# ler arquivo CSV filmes_processados.csv\n",
    "data_filmes_processados = pd.read_csv('filmes_processados_csv/filmes_processados.csv')\n",
    "\n",
    "# ler arquivo CSV comentarios_processados.csv\n",
    "data_comentarios_processados = pd.read_csv('filmes_processados_csv/comentarios_processados.csv')"
   ]
  }
 ],
 "metadata": {
  "kernelspec": {
   "display_name": "Python 3",
   "language": "python",
   "name": "python3"
  },
  "language_info": {
   "codemirror_mode": {
    "name": "ipython",
    "version": 2
   },
   "file_extension": ".py",
   "mimetype": "text/x-python",
   "name": "python",
   "nbconvert_exporter": "python",
   "pygments_lexer": "ipython2",
   "version": "2.7.6"
  }
 },
 "nbformat": 4,
 "nbformat_minor": 5
}
